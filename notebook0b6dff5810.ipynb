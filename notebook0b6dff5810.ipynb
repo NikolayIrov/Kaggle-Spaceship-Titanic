{
 "cells": [
  {
   "cell_type": "code",
   "execution_count": 1,
   "id": "077e728b",
   "metadata": {
    "_cell_guid": "b1076dfc-b9ad-4769-8c92-a6c4dae69d19",
    "_uuid": "8f2839f25d086af736a60e9eeb907d3b93b6e0e5",
    "execution": {
     "iopub.execute_input": "2022-03-11T08:15:39.394106Z",
     "iopub.status.busy": "2022-03-11T08:15:39.392888Z",
     "iopub.status.idle": "2022-03-11T08:15:39.404820Z",
     "shell.execute_reply": "2022-03-11T08:15:39.405430Z",
     "shell.execute_reply.started": "2022-03-11T06:38:41.618930Z"
    },
    "papermill": {
     "duration": 0.054296,
     "end_time": "2022-03-11T08:15:39.405747",
     "exception": false,
     "start_time": "2022-03-11T08:15:39.351451",
     "status": "completed"
    },
    "tags": []
   },
   "outputs": [
    {
     "name": "stdout",
     "output_type": "stream",
     "text": [
      "/kaggle/input/spaceship-titanic/sample_submission.csv\n",
      "/kaggle/input/spaceship-titanic/train.csv\n",
      "/kaggle/input/spaceship-titanic/test.csv\n"
     ]
    }
   ],
   "source": [
    "# This Python 3 environment comes with many helpful analytics libraries installed\n",
    "# It is defined by the kaggle/python Docker image: https://github.com/kaggle/docker-python\n",
    "# For example, here's several helpful packages to load\n",
    "\n",
    "import numpy as np # linear algebra\n",
    "import pandas as pd # data processing, CSV file I/O (e.g. pd.read_csv)\n",
    "\n",
    "# Input data files are available in the read-only \"../input/\" directory\n",
    "# For example, running this (by clicking run or pressing Shift+Enter) will list all files under the input directory\n",
    "\n",
    "import os\n",
    "for dirname, _, filenames in os.walk('/kaggle/input'):\n",
    "    for filename in filenames:\n",
    "        print(os.path.join(dirname, filename))\n",
    "\n",
    "# You can write up to 20GB to the current directory (/kaggle/working/) that gets preserved as output when you create a version using \"Save & Run All\" \n",
    "# You can also write temporary files to /kaggle/temp/, but they won't be saved outside of the current session"
   ]
  },
  {
   "cell_type": "markdown",
   "id": "ea65caa7",
   "metadata": {
    "papermill": {
     "duration": 0.037773,
     "end_time": "2022-03-11T08:15:39.480316",
     "exception": false,
     "start_time": "2022-03-11T08:15:39.442543",
     "status": "completed"
    },
    "tags": []
   },
   "source": [
    "# Load Data"
   ]
  },
  {
   "cell_type": "code",
   "execution_count": 2,
   "id": "82a4532d",
   "metadata": {
    "execution": {
     "iopub.execute_input": "2022-03-11T08:15:39.559754Z",
     "iopub.status.busy": "2022-03-11T08:15:39.559024Z",
     "iopub.status.idle": "2022-03-11T08:15:39.636355Z",
     "shell.execute_reply": "2022-03-11T08:15:39.634982Z",
     "shell.execute_reply.started": "2022-03-11T06:44:28.483922Z"
    },
    "papermill": {
     "duration": 0.116722,
     "end_time": "2022-03-11T08:15:39.636531",
     "exception": false,
     "start_time": "2022-03-11T08:15:39.519809",
     "status": "completed"
    },
    "tags": []
   },
   "outputs": [],
   "source": [
    "train=pd.read_csv('/kaggle/input/spaceship-titanic/train.csv')\n",
    "test=pd.read_csv('/kaggle/input/spaceship-titanic/test.csv')"
   ]
  },
  {
   "cell_type": "code",
   "execution_count": 3,
   "id": "a8f5279e",
   "metadata": {
    "execution": {
     "iopub.execute_input": "2022-03-11T08:15:39.721017Z",
     "iopub.status.busy": "2022-03-11T08:15:39.720340Z",
     "iopub.status.idle": "2022-03-11T08:15:39.755368Z",
     "shell.execute_reply": "2022-03-11T08:15:39.755910Z",
     "shell.execute_reply.started": "2022-03-11T06:44:53.677637Z"
    },
    "papermill": {
     "duration": 0.079571,
     "end_time": "2022-03-11T08:15:39.756087",
     "exception": false,
     "start_time": "2022-03-11T08:15:39.676516",
     "status": "completed"
    },
    "tags": []
   },
   "outputs": [
    {
     "data": {
      "text/html": [
       "<div>\n",
       "<style scoped>\n",
       "    .dataframe tbody tr th:only-of-type {\n",
       "        vertical-align: middle;\n",
       "    }\n",
       "\n",
       "    .dataframe tbody tr th {\n",
       "        vertical-align: top;\n",
       "    }\n",
       "\n",
       "    .dataframe thead th {\n",
       "        text-align: right;\n",
       "    }\n",
       "</style>\n",
       "<table border=\"1\" class=\"dataframe\">\n",
       "  <thead>\n",
       "    <tr style=\"text-align: right;\">\n",
       "      <th></th>\n",
       "      <th>PassengerId</th>\n",
       "      <th>HomePlanet</th>\n",
       "      <th>CryoSleep</th>\n",
       "      <th>Cabin</th>\n",
       "      <th>Destination</th>\n",
       "      <th>Age</th>\n",
       "      <th>VIP</th>\n",
       "      <th>RoomService</th>\n",
       "      <th>FoodCourt</th>\n",
       "      <th>ShoppingMall</th>\n",
       "      <th>Spa</th>\n",
       "      <th>VRDeck</th>\n",
       "      <th>Name</th>\n",
       "      <th>Transported</th>\n",
       "    </tr>\n",
       "  </thead>\n",
       "  <tbody>\n",
       "    <tr>\n",
       "      <th>0</th>\n",
       "      <td>0001_01</td>\n",
       "      <td>Europa</td>\n",
       "      <td>False</td>\n",
       "      <td>B/0/P</td>\n",
       "      <td>TRAPPIST-1e</td>\n",
       "      <td>39.0</td>\n",
       "      <td>False</td>\n",
       "      <td>0.0</td>\n",
       "      <td>0.0</td>\n",
       "      <td>0.0</td>\n",
       "      <td>0.0</td>\n",
       "      <td>0.0</td>\n",
       "      <td>Maham Ofracculy</td>\n",
       "      <td>False</td>\n",
       "    </tr>\n",
       "    <tr>\n",
       "      <th>1</th>\n",
       "      <td>0002_01</td>\n",
       "      <td>Earth</td>\n",
       "      <td>False</td>\n",
       "      <td>F/0/S</td>\n",
       "      <td>TRAPPIST-1e</td>\n",
       "      <td>24.0</td>\n",
       "      <td>False</td>\n",
       "      <td>109.0</td>\n",
       "      <td>9.0</td>\n",
       "      <td>25.0</td>\n",
       "      <td>549.0</td>\n",
       "      <td>44.0</td>\n",
       "      <td>Juanna Vines</td>\n",
       "      <td>True</td>\n",
       "    </tr>\n",
       "    <tr>\n",
       "      <th>2</th>\n",
       "      <td>0003_01</td>\n",
       "      <td>Europa</td>\n",
       "      <td>False</td>\n",
       "      <td>A/0/S</td>\n",
       "      <td>TRAPPIST-1e</td>\n",
       "      <td>58.0</td>\n",
       "      <td>True</td>\n",
       "      <td>43.0</td>\n",
       "      <td>3576.0</td>\n",
       "      <td>0.0</td>\n",
       "      <td>6715.0</td>\n",
       "      <td>49.0</td>\n",
       "      <td>Altark Susent</td>\n",
       "      <td>False</td>\n",
       "    </tr>\n",
       "    <tr>\n",
       "      <th>3</th>\n",
       "      <td>0003_02</td>\n",
       "      <td>Europa</td>\n",
       "      <td>False</td>\n",
       "      <td>A/0/S</td>\n",
       "      <td>TRAPPIST-1e</td>\n",
       "      <td>33.0</td>\n",
       "      <td>False</td>\n",
       "      <td>0.0</td>\n",
       "      <td>1283.0</td>\n",
       "      <td>371.0</td>\n",
       "      <td>3329.0</td>\n",
       "      <td>193.0</td>\n",
       "      <td>Solam Susent</td>\n",
       "      <td>False</td>\n",
       "    </tr>\n",
       "    <tr>\n",
       "      <th>4</th>\n",
       "      <td>0004_01</td>\n",
       "      <td>Earth</td>\n",
       "      <td>False</td>\n",
       "      <td>F/1/S</td>\n",
       "      <td>TRAPPIST-1e</td>\n",
       "      <td>16.0</td>\n",
       "      <td>False</td>\n",
       "      <td>303.0</td>\n",
       "      <td>70.0</td>\n",
       "      <td>151.0</td>\n",
       "      <td>565.0</td>\n",
       "      <td>2.0</td>\n",
       "      <td>Willy Santantines</td>\n",
       "      <td>True</td>\n",
       "    </tr>\n",
       "    <tr>\n",
       "      <th>...</th>\n",
       "      <td>...</td>\n",
       "      <td>...</td>\n",
       "      <td>...</td>\n",
       "      <td>...</td>\n",
       "      <td>...</td>\n",
       "      <td>...</td>\n",
       "      <td>...</td>\n",
       "      <td>...</td>\n",
       "      <td>...</td>\n",
       "      <td>...</td>\n",
       "      <td>...</td>\n",
       "      <td>...</td>\n",
       "      <td>...</td>\n",
       "      <td>...</td>\n",
       "    </tr>\n",
       "    <tr>\n",
       "      <th>8688</th>\n",
       "      <td>9276_01</td>\n",
       "      <td>Europa</td>\n",
       "      <td>False</td>\n",
       "      <td>A/98/P</td>\n",
       "      <td>55 Cancri e</td>\n",
       "      <td>41.0</td>\n",
       "      <td>True</td>\n",
       "      <td>0.0</td>\n",
       "      <td>6819.0</td>\n",
       "      <td>0.0</td>\n",
       "      <td>1643.0</td>\n",
       "      <td>74.0</td>\n",
       "      <td>Gravior Noxnuther</td>\n",
       "      <td>False</td>\n",
       "    </tr>\n",
       "    <tr>\n",
       "      <th>8689</th>\n",
       "      <td>9278_01</td>\n",
       "      <td>Earth</td>\n",
       "      <td>True</td>\n",
       "      <td>G/1499/S</td>\n",
       "      <td>PSO J318.5-22</td>\n",
       "      <td>18.0</td>\n",
       "      <td>False</td>\n",
       "      <td>0.0</td>\n",
       "      <td>0.0</td>\n",
       "      <td>0.0</td>\n",
       "      <td>0.0</td>\n",
       "      <td>0.0</td>\n",
       "      <td>Kurta Mondalley</td>\n",
       "      <td>False</td>\n",
       "    </tr>\n",
       "    <tr>\n",
       "      <th>8690</th>\n",
       "      <td>9279_01</td>\n",
       "      <td>Earth</td>\n",
       "      <td>False</td>\n",
       "      <td>G/1500/S</td>\n",
       "      <td>TRAPPIST-1e</td>\n",
       "      <td>26.0</td>\n",
       "      <td>False</td>\n",
       "      <td>0.0</td>\n",
       "      <td>0.0</td>\n",
       "      <td>1872.0</td>\n",
       "      <td>1.0</td>\n",
       "      <td>0.0</td>\n",
       "      <td>Fayey Connon</td>\n",
       "      <td>True</td>\n",
       "    </tr>\n",
       "    <tr>\n",
       "      <th>8691</th>\n",
       "      <td>9280_01</td>\n",
       "      <td>Europa</td>\n",
       "      <td>False</td>\n",
       "      <td>E/608/S</td>\n",
       "      <td>55 Cancri e</td>\n",
       "      <td>32.0</td>\n",
       "      <td>False</td>\n",
       "      <td>0.0</td>\n",
       "      <td>1049.0</td>\n",
       "      <td>0.0</td>\n",
       "      <td>353.0</td>\n",
       "      <td>3235.0</td>\n",
       "      <td>Celeon Hontichre</td>\n",
       "      <td>False</td>\n",
       "    </tr>\n",
       "    <tr>\n",
       "      <th>8692</th>\n",
       "      <td>9280_02</td>\n",
       "      <td>Europa</td>\n",
       "      <td>False</td>\n",
       "      <td>E/608/S</td>\n",
       "      <td>TRAPPIST-1e</td>\n",
       "      <td>44.0</td>\n",
       "      <td>False</td>\n",
       "      <td>126.0</td>\n",
       "      <td>4688.0</td>\n",
       "      <td>0.0</td>\n",
       "      <td>0.0</td>\n",
       "      <td>12.0</td>\n",
       "      <td>Propsh Hontichre</td>\n",
       "      <td>True</td>\n",
       "    </tr>\n",
       "  </tbody>\n",
       "</table>\n",
       "<p>8693 rows × 14 columns</p>\n",
       "</div>"
      ],
      "text/plain": [
       "     PassengerId HomePlanet CryoSleep     Cabin    Destination   Age    VIP  \\\n",
       "0        0001_01     Europa     False     B/0/P    TRAPPIST-1e  39.0  False   \n",
       "1        0002_01      Earth     False     F/0/S    TRAPPIST-1e  24.0  False   \n",
       "2        0003_01     Europa     False     A/0/S    TRAPPIST-1e  58.0   True   \n",
       "3        0003_02     Europa     False     A/0/S    TRAPPIST-1e  33.0  False   \n",
       "4        0004_01      Earth     False     F/1/S    TRAPPIST-1e  16.0  False   \n",
       "...          ...        ...       ...       ...            ...   ...    ...   \n",
       "8688     9276_01     Europa     False    A/98/P    55 Cancri e  41.0   True   \n",
       "8689     9278_01      Earth      True  G/1499/S  PSO J318.5-22  18.0  False   \n",
       "8690     9279_01      Earth     False  G/1500/S    TRAPPIST-1e  26.0  False   \n",
       "8691     9280_01     Europa     False   E/608/S    55 Cancri e  32.0  False   \n",
       "8692     9280_02     Europa     False   E/608/S    TRAPPIST-1e  44.0  False   \n",
       "\n",
       "      RoomService  FoodCourt  ShoppingMall     Spa  VRDeck               Name  \\\n",
       "0             0.0        0.0           0.0     0.0     0.0    Maham Ofracculy   \n",
       "1           109.0        9.0          25.0   549.0    44.0       Juanna Vines   \n",
       "2            43.0     3576.0           0.0  6715.0    49.0      Altark Susent   \n",
       "3             0.0     1283.0         371.0  3329.0   193.0       Solam Susent   \n",
       "4           303.0       70.0         151.0   565.0     2.0  Willy Santantines   \n",
       "...           ...        ...           ...     ...     ...                ...   \n",
       "8688          0.0     6819.0           0.0  1643.0    74.0  Gravior Noxnuther   \n",
       "8689          0.0        0.0           0.0     0.0     0.0    Kurta Mondalley   \n",
       "8690          0.0        0.0        1872.0     1.0     0.0       Fayey Connon   \n",
       "8691          0.0     1049.0           0.0   353.0  3235.0   Celeon Hontichre   \n",
       "8692        126.0     4688.0           0.0     0.0    12.0   Propsh Hontichre   \n",
       "\n",
       "      Transported  \n",
       "0           False  \n",
       "1            True  \n",
       "2           False  \n",
       "3           False  \n",
       "4            True  \n",
       "...           ...  \n",
       "8688        False  \n",
       "8689        False  \n",
       "8690         True  \n",
       "8691        False  \n",
       "8692         True  \n",
       "\n",
       "[8693 rows x 14 columns]"
      ]
     },
     "execution_count": 3,
     "metadata": {},
     "output_type": "execute_result"
    }
   ],
   "source": [
    "train"
   ]
  },
  {
   "cell_type": "code",
   "execution_count": 4,
   "id": "c4180cbd",
   "metadata": {
    "execution": {
     "iopub.execute_input": "2022-03-11T08:15:39.835437Z",
     "iopub.status.busy": "2022-03-11T08:15:39.834686Z",
     "iopub.status.idle": "2022-03-11T08:15:39.860868Z",
     "shell.execute_reply": "2022-03-11T08:15:39.861329Z",
     "shell.execute_reply.started": "2022-03-11T06:45:03.999102Z"
    },
    "papermill": {
     "duration": 0.068637,
     "end_time": "2022-03-11T08:15:39.861504",
     "exception": false,
     "start_time": "2022-03-11T08:15:39.792867",
     "status": "completed"
    },
    "tags": []
   },
   "outputs": [
    {
     "data": {
      "text/html": [
       "<div>\n",
       "<style scoped>\n",
       "    .dataframe tbody tr th:only-of-type {\n",
       "        vertical-align: middle;\n",
       "    }\n",
       "\n",
       "    .dataframe tbody tr th {\n",
       "        vertical-align: top;\n",
       "    }\n",
       "\n",
       "    .dataframe thead th {\n",
       "        text-align: right;\n",
       "    }\n",
       "</style>\n",
       "<table border=\"1\" class=\"dataframe\">\n",
       "  <thead>\n",
       "    <tr style=\"text-align: right;\">\n",
       "      <th></th>\n",
       "      <th>PassengerId</th>\n",
       "      <th>HomePlanet</th>\n",
       "      <th>CryoSleep</th>\n",
       "      <th>Cabin</th>\n",
       "      <th>Destination</th>\n",
       "      <th>Age</th>\n",
       "      <th>VIP</th>\n",
       "      <th>RoomService</th>\n",
       "      <th>FoodCourt</th>\n",
       "      <th>ShoppingMall</th>\n",
       "      <th>Spa</th>\n",
       "      <th>VRDeck</th>\n",
       "      <th>Name</th>\n",
       "    </tr>\n",
       "  </thead>\n",
       "  <tbody>\n",
       "    <tr>\n",
       "      <th>0</th>\n",
       "      <td>0013_01</td>\n",
       "      <td>Earth</td>\n",
       "      <td>True</td>\n",
       "      <td>G/3/S</td>\n",
       "      <td>TRAPPIST-1e</td>\n",
       "      <td>27.0</td>\n",
       "      <td>False</td>\n",
       "      <td>0.0</td>\n",
       "      <td>0.0</td>\n",
       "      <td>0.0</td>\n",
       "      <td>0.0</td>\n",
       "      <td>0.0</td>\n",
       "      <td>Nelly Carsoning</td>\n",
       "    </tr>\n",
       "    <tr>\n",
       "      <th>1</th>\n",
       "      <td>0018_01</td>\n",
       "      <td>Earth</td>\n",
       "      <td>False</td>\n",
       "      <td>F/4/S</td>\n",
       "      <td>TRAPPIST-1e</td>\n",
       "      <td>19.0</td>\n",
       "      <td>False</td>\n",
       "      <td>0.0</td>\n",
       "      <td>9.0</td>\n",
       "      <td>0.0</td>\n",
       "      <td>2823.0</td>\n",
       "      <td>0.0</td>\n",
       "      <td>Lerome Peckers</td>\n",
       "    </tr>\n",
       "    <tr>\n",
       "      <th>2</th>\n",
       "      <td>0019_01</td>\n",
       "      <td>Europa</td>\n",
       "      <td>True</td>\n",
       "      <td>C/0/S</td>\n",
       "      <td>55 Cancri e</td>\n",
       "      <td>31.0</td>\n",
       "      <td>False</td>\n",
       "      <td>0.0</td>\n",
       "      <td>0.0</td>\n",
       "      <td>0.0</td>\n",
       "      <td>0.0</td>\n",
       "      <td>0.0</td>\n",
       "      <td>Sabih Unhearfus</td>\n",
       "    </tr>\n",
       "    <tr>\n",
       "      <th>3</th>\n",
       "      <td>0021_01</td>\n",
       "      <td>Europa</td>\n",
       "      <td>False</td>\n",
       "      <td>C/1/S</td>\n",
       "      <td>TRAPPIST-1e</td>\n",
       "      <td>38.0</td>\n",
       "      <td>False</td>\n",
       "      <td>0.0</td>\n",
       "      <td>6652.0</td>\n",
       "      <td>0.0</td>\n",
       "      <td>181.0</td>\n",
       "      <td>585.0</td>\n",
       "      <td>Meratz Caltilter</td>\n",
       "    </tr>\n",
       "    <tr>\n",
       "      <th>4</th>\n",
       "      <td>0023_01</td>\n",
       "      <td>Earth</td>\n",
       "      <td>False</td>\n",
       "      <td>F/5/S</td>\n",
       "      <td>TRAPPIST-1e</td>\n",
       "      <td>20.0</td>\n",
       "      <td>False</td>\n",
       "      <td>10.0</td>\n",
       "      <td>0.0</td>\n",
       "      <td>635.0</td>\n",
       "      <td>0.0</td>\n",
       "      <td>0.0</td>\n",
       "      <td>Brence Harperez</td>\n",
       "    </tr>\n",
       "    <tr>\n",
       "      <th>...</th>\n",
       "      <td>...</td>\n",
       "      <td>...</td>\n",
       "      <td>...</td>\n",
       "      <td>...</td>\n",
       "      <td>...</td>\n",
       "      <td>...</td>\n",
       "      <td>...</td>\n",
       "      <td>...</td>\n",
       "      <td>...</td>\n",
       "      <td>...</td>\n",
       "      <td>...</td>\n",
       "      <td>...</td>\n",
       "      <td>...</td>\n",
       "    </tr>\n",
       "    <tr>\n",
       "      <th>4272</th>\n",
       "      <td>9266_02</td>\n",
       "      <td>Earth</td>\n",
       "      <td>True</td>\n",
       "      <td>G/1496/S</td>\n",
       "      <td>TRAPPIST-1e</td>\n",
       "      <td>34.0</td>\n",
       "      <td>False</td>\n",
       "      <td>0.0</td>\n",
       "      <td>0.0</td>\n",
       "      <td>0.0</td>\n",
       "      <td>0.0</td>\n",
       "      <td>0.0</td>\n",
       "      <td>Jeron Peter</td>\n",
       "    </tr>\n",
       "    <tr>\n",
       "      <th>4273</th>\n",
       "      <td>9269_01</td>\n",
       "      <td>Earth</td>\n",
       "      <td>False</td>\n",
       "      <td>NaN</td>\n",
       "      <td>TRAPPIST-1e</td>\n",
       "      <td>42.0</td>\n",
       "      <td>False</td>\n",
       "      <td>0.0</td>\n",
       "      <td>847.0</td>\n",
       "      <td>17.0</td>\n",
       "      <td>10.0</td>\n",
       "      <td>144.0</td>\n",
       "      <td>Matty Scheron</td>\n",
       "    </tr>\n",
       "    <tr>\n",
       "      <th>4274</th>\n",
       "      <td>9271_01</td>\n",
       "      <td>Mars</td>\n",
       "      <td>True</td>\n",
       "      <td>D/296/P</td>\n",
       "      <td>55 Cancri e</td>\n",
       "      <td>NaN</td>\n",
       "      <td>False</td>\n",
       "      <td>0.0</td>\n",
       "      <td>0.0</td>\n",
       "      <td>0.0</td>\n",
       "      <td>0.0</td>\n",
       "      <td>0.0</td>\n",
       "      <td>Jayrin Pore</td>\n",
       "    </tr>\n",
       "    <tr>\n",
       "      <th>4275</th>\n",
       "      <td>9273_01</td>\n",
       "      <td>Europa</td>\n",
       "      <td>False</td>\n",
       "      <td>D/297/P</td>\n",
       "      <td>NaN</td>\n",
       "      <td>NaN</td>\n",
       "      <td>False</td>\n",
       "      <td>0.0</td>\n",
       "      <td>2680.0</td>\n",
       "      <td>0.0</td>\n",
       "      <td>0.0</td>\n",
       "      <td>523.0</td>\n",
       "      <td>Kitakan Conale</td>\n",
       "    </tr>\n",
       "    <tr>\n",
       "      <th>4276</th>\n",
       "      <td>9277_01</td>\n",
       "      <td>Earth</td>\n",
       "      <td>True</td>\n",
       "      <td>G/1498/S</td>\n",
       "      <td>PSO J318.5-22</td>\n",
       "      <td>43.0</td>\n",
       "      <td>False</td>\n",
       "      <td>0.0</td>\n",
       "      <td>0.0</td>\n",
       "      <td>0.0</td>\n",
       "      <td>0.0</td>\n",
       "      <td>0.0</td>\n",
       "      <td>Lilace Leonzaley</td>\n",
       "    </tr>\n",
       "  </tbody>\n",
       "</table>\n",
       "<p>4277 rows × 13 columns</p>\n",
       "</div>"
      ],
      "text/plain": [
       "     PassengerId HomePlanet CryoSleep     Cabin    Destination   Age    VIP  \\\n",
       "0        0013_01      Earth      True     G/3/S    TRAPPIST-1e  27.0  False   \n",
       "1        0018_01      Earth     False     F/4/S    TRAPPIST-1e  19.0  False   \n",
       "2        0019_01     Europa      True     C/0/S    55 Cancri e  31.0  False   \n",
       "3        0021_01     Europa     False     C/1/S    TRAPPIST-1e  38.0  False   \n",
       "4        0023_01      Earth     False     F/5/S    TRAPPIST-1e  20.0  False   \n",
       "...          ...        ...       ...       ...            ...   ...    ...   \n",
       "4272     9266_02      Earth      True  G/1496/S    TRAPPIST-1e  34.0  False   \n",
       "4273     9269_01      Earth     False       NaN    TRAPPIST-1e  42.0  False   \n",
       "4274     9271_01       Mars      True   D/296/P    55 Cancri e   NaN  False   \n",
       "4275     9273_01     Europa     False   D/297/P            NaN   NaN  False   \n",
       "4276     9277_01      Earth      True  G/1498/S  PSO J318.5-22  43.0  False   \n",
       "\n",
       "      RoomService  FoodCourt  ShoppingMall     Spa  VRDeck              Name  \n",
       "0             0.0        0.0           0.0     0.0     0.0   Nelly Carsoning  \n",
       "1             0.0        9.0           0.0  2823.0     0.0    Lerome Peckers  \n",
       "2             0.0        0.0           0.0     0.0     0.0   Sabih Unhearfus  \n",
       "3             0.0     6652.0           0.0   181.0   585.0  Meratz Caltilter  \n",
       "4            10.0        0.0         635.0     0.0     0.0   Brence Harperez  \n",
       "...           ...        ...           ...     ...     ...               ...  \n",
       "4272          0.0        0.0           0.0     0.0     0.0       Jeron Peter  \n",
       "4273          0.0      847.0          17.0    10.0   144.0     Matty Scheron  \n",
       "4274          0.0        0.0           0.0     0.0     0.0       Jayrin Pore  \n",
       "4275          0.0     2680.0           0.0     0.0   523.0    Kitakan Conale  \n",
       "4276          0.0        0.0           0.0     0.0     0.0  Lilace Leonzaley  \n",
       "\n",
       "[4277 rows x 13 columns]"
      ]
     },
     "execution_count": 4,
     "metadata": {},
     "output_type": "execute_result"
    }
   ],
   "source": [
    "test"
   ]
  },
  {
   "cell_type": "markdown",
   "id": "a262703d",
   "metadata": {
    "papermill": {
     "duration": 0.03902,
     "end_time": "2022-03-11T08:15:39.939539",
     "exception": false,
     "start_time": "2022-03-11T08:15:39.900519",
     "status": "completed"
    },
    "tags": []
   },
   "source": [
    "# Data Processing"
   ]
  },
  {
   "cell_type": "code",
   "execution_count": 5,
   "id": "58a83b60",
   "metadata": {
    "execution": {
     "iopub.execute_input": "2022-03-11T08:15:40.022805Z",
     "iopub.status.busy": "2022-03-11T08:15:40.022039Z",
     "iopub.status.idle": "2022-03-11T08:15:40.024895Z",
     "shell.execute_reply": "2022-03-11T08:15:40.024315Z",
     "shell.execute_reply.started": "2022-03-11T06:51:06.497530Z"
    },
    "papermill": {
     "duration": 0.047442,
     "end_time": "2022-03-11T08:15:40.025045",
     "exception": false,
     "start_time": "2022-03-11T08:15:39.977603",
     "status": "completed"
    },
    "tags": []
   },
   "outputs": [],
   "source": [
    "import pandas as pd\n",
    "import numpy as np"
   ]
  },
  {
   "cell_type": "code",
   "execution_count": 6,
   "id": "47fccdaa",
   "metadata": {
    "execution": {
     "iopub.execute_input": "2022-03-11T08:15:40.109524Z",
     "iopub.status.busy": "2022-03-11T08:15:40.108842Z",
     "iopub.status.idle": "2022-03-11T08:15:40.119949Z",
     "shell.execute_reply": "2022-03-11T08:15:40.119321Z",
     "shell.execute_reply.started": "2022-03-11T06:53:12.759650Z"
    },
    "papermill": {
     "duration": 0.057064,
     "end_time": "2022-03-11T08:15:40.120125",
     "exception": false,
     "start_time": "2022-03-11T08:15:40.063061",
     "status": "completed"
    },
    "tags": []
   },
   "outputs": [],
   "source": [
    "#join data to simplify and universalize processing \n",
    "train_y=train['Transported']\n",
    "train_X=train.drop('Transported',axis=1)\n",
    "joint=pd.concat([train_X,test],axis=0)"
   ]
  },
  {
   "cell_type": "code",
   "execution_count": 7,
   "id": "1fced983",
   "metadata": {
    "execution": {
     "iopub.execute_input": "2022-03-11T08:15:40.215239Z",
     "iopub.status.busy": "2022-03-11T08:15:40.214552Z",
     "iopub.status.idle": "2022-03-11T08:15:40.230752Z",
     "shell.execute_reply": "2022-03-11T08:15:40.230088Z",
     "shell.execute_reply.started": "2022-03-11T06:56:04.937579Z"
    },
    "papermill": {
     "duration": 0.07328,
     "end_time": "2022-03-11T08:15:40.230895",
     "exception": false,
     "start_time": "2022-03-11T08:15:40.157615",
     "status": "completed"
    },
    "tags": []
   },
   "outputs": [
    {
     "name": "stdout",
     "output_type": "stream",
     "text": [
      "<class 'pandas.core.frame.DataFrame'>\n",
      "Int64Index: 12970 entries, 0 to 4276\n",
      "Data columns (total 13 columns):\n",
      " #   Column        Non-Null Count  Dtype  \n",
      "---  ------        --------------  -----  \n",
      " 0   PassengerId   12970 non-null  object \n",
      " 1   HomePlanet    12682 non-null  object \n",
      " 2   CryoSleep     12660 non-null  object \n",
      " 3   Cabin         12671 non-null  object \n",
      " 4   Destination   12696 non-null  object \n",
      " 5   Age           12700 non-null  float64\n",
      " 6   VIP           12674 non-null  object \n",
      " 7   RoomService   12707 non-null  float64\n",
      " 8   FoodCourt     12681 non-null  float64\n",
      " 9   ShoppingMall  12664 non-null  float64\n",
      " 10  Spa           12686 non-null  float64\n",
      " 11  VRDeck        12702 non-null  float64\n",
      " 12  Name          12676 non-null  object \n",
      "dtypes: float64(6), object(7)\n",
      "memory usage: 1.4+ MB\n"
     ]
    }
   ],
   "source": [
    "joint.info()"
   ]
  },
  {
   "cell_type": "markdown",
   "id": "dd7708d0",
   "metadata": {
    "papermill": {
     "duration": 0.037885,
     "end_time": "2022-03-11T08:15:40.307573",
     "exception": false,
     "start_time": "2022-03-11T08:15:40.269688",
     "status": "completed"
    },
    "tags": []
   },
   "source": [
    "## Quantative data"
   ]
  },
  {
   "cell_type": "code",
   "execution_count": 8,
   "id": "9cc78f44",
   "metadata": {
    "execution": {
     "iopub.execute_input": "2022-03-11T08:15:40.390712Z",
     "iopub.status.busy": "2022-03-11T08:15:40.389971Z",
     "iopub.status.idle": "2022-03-11T08:15:40.401379Z",
     "shell.execute_reply": "2022-03-11T08:15:40.401920Z",
     "shell.execute_reply.started": "2022-03-11T06:57:40.910638Z"
    },
    "papermill": {
     "duration": 0.056325,
     "end_time": "2022-03-11T08:15:40.402107",
     "exception": false,
     "start_time": "2022-03-11T08:15:40.345782",
     "status": "completed"
    },
    "tags": []
   },
   "outputs": [
    {
     "data": {
      "text/plain": [
       "Age             270\n",
       "RoomService     263\n",
       "FoodCourt       289\n",
       "ShoppingMall    306\n",
       "Spa             284\n",
       "VRDeck          268\n",
       "dtype: int64"
      ]
     },
     "execution_count": 8,
     "metadata": {},
     "output_type": "execute_result"
    }
   ],
   "source": [
    "quantative=['Age', 'RoomService', 'FoodCourt', 'ShoppingMall', 'Spa','VRDeck']\n",
    "joint[quantative].isna().sum()"
   ]
  },
  {
   "cell_type": "code",
   "execution_count": 9,
   "id": "c851fee8",
   "metadata": {
    "execution": {
     "iopub.execute_input": "2022-03-11T08:15:40.490442Z",
     "iopub.status.busy": "2022-03-11T08:15:40.489798Z",
     "iopub.status.idle": "2022-03-11T08:15:40.491835Z",
     "shell.execute_reply": "2022-03-11T08:15:40.492413Z",
     "shell.execute_reply.started": "2022-03-11T06:59:08.123929Z"
    },
    "papermill": {
     "duration": 0.051675,
     "end_time": "2022-03-11T08:15:40.492603",
     "exception": false,
     "start_time": "2022-03-11T08:15:40.440928",
     "status": "completed"
    },
    "tags": []
   },
   "outputs": [],
   "source": [
    "# fill missing data with mean value\n",
    "for i in quantative:\n",
    "    joint[i].fillna(joint[i].mean(),inplace=True)\n",
    "    joint[i]=joint[i].astype('int64')"
   ]
  },
  {
   "cell_type": "markdown",
   "id": "3c6c4bf8",
   "metadata": {
    "execution": {
     "iopub.execute_input": "2022-03-11T07:00:01.237081Z",
     "iopub.status.busy": "2022-03-11T07:00:01.236781Z",
     "iopub.status.idle": "2022-03-11T07:00:01.240360Z",
     "shell.execute_reply": "2022-03-11T07:00:01.239810Z",
     "shell.execute_reply.started": "2022-03-11T07:00:01.237053Z"
    },
    "papermill": {
     "duration": 0.037392,
     "end_time": "2022-03-11T08:15:40.568465",
     "exception": false,
     "start_time": "2022-03-11T08:15:40.531073",
     "status": "completed"
    },
    "tags": []
   },
   "source": [
    "### Groupping age"
   ]
  },
  {
   "cell_type": "code",
   "execution_count": 10,
   "id": "82d4e660",
   "metadata": {
    "execution": {
     "iopub.execute_input": "2022-03-11T08:15:40.649855Z",
     "iopub.status.busy": "2022-03-11T08:15:40.649202Z",
     "iopub.status.idle": "2022-03-11T08:15:40.660794Z",
     "shell.execute_reply": "2022-03-11T08:15:40.661339Z",
     "shell.execute_reply.started": "2022-03-11T07:00:35.521199Z"
    },
    "papermill": {
     "duration": 0.052894,
     "end_time": "2022-03-11T08:15:40.661514",
     "exception": false,
     "start_time": "2022-03-11T08:15:40.608620",
     "status": "completed"
    },
    "tags": []
   },
   "outputs": [
    {
     "data": {
      "text/plain": [
       "count    12970.000000\n",
       "mean        28.755898\n",
       "std         14.237137\n",
       "min          0.000000\n",
       "25%         20.000000\n",
       "50%         27.000000\n",
       "75%         37.000000\n",
       "max         79.000000\n",
       "Name: Age, dtype: float64"
      ]
     },
     "execution_count": 10,
     "metadata": {},
     "output_type": "execute_result"
    }
   ],
   "source": [
    "joint['Age'].describe()"
   ]
  },
  {
   "cell_type": "code",
   "execution_count": 11,
   "id": "676839a9",
   "metadata": {
    "execution": {
     "iopub.execute_input": "2022-03-11T08:15:40.742237Z",
     "iopub.status.busy": "2022-03-11T08:15:40.741487Z",
     "iopub.status.idle": "2022-03-11T08:15:40.763627Z",
     "shell.execute_reply": "2022-03-11T08:15:40.764200Z",
     "shell.execute_reply.started": "2022-03-11T07:01:37.265002Z"
    },
    "papermill": {
     "duration": 0.064385,
     "end_time": "2022-03-11T08:15:40.764373",
     "exception": false,
     "start_time": "2022-03-11T08:15:40.699988",
     "status": "completed"
    },
    "tags": []
   },
   "outputs": [
    {
     "data": {
      "text/plain": [
       "3    4460\n",
       "4    2538\n",
       "2    2235\n",
       "5    1570\n",
       "1     980\n",
       "6     809\n",
       "7     312\n",
       "8      66\n",
       "Name: AgeGroup, dtype: int64"
      ]
     },
     "execution_count": 11,
     "metadata": {},
     "output_type": "execute_result"
    }
   ],
   "source": [
    "def age_group(x):\n",
    "    if x>=0 and x<10: return 1\n",
    "    if x>=10 and x<20: return 2\n",
    "    if x>=20 and x<30: return 3\n",
    "    if x>=30 and x<40: return 4\n",
    "    if x>=40 and x<50: return 5\n",
    "    if x>=50 and x<60: return 6\n",
    "    if x>=60 and x<70: return 7\n",
    "    if x>=70: return 8\n",
    "\n",
    "joint['AgeGroup']=joint['Age'].apply(age_group)\n",
    "joint['AgeGroup'].value_counts()"
   ]
  },
  {
   "cell_type": "markdown",
   "id": "dd8c17b9",
   "metadata": {
    "papermill": {
     "duration": 0.039206,
     "end_time": "2022-03-11T08:15:40.843461",
     "exception": false,
     "start_time": "2022-03-11T08:15:40.804255",
     "status": "completed"
    },
    "tags": []
   },
   "source": [
    "## Category data"
   ]
  },
  {
   "cell_type": "code",
   "execution_count": 12,
   "id": "1875b8ec",
   "metadata": {
    "execution": {
     "iopub.execute_input": "2022-03-11T08:15:40.927145Z",
     "iopub.status.busy": "2022-03-11T08:15:40.926458Z",
     "iopub.status.idle": "2022-03-11T08:15:40.928175Z",
     "shell.execute_reply": "2022-03-11T08:15:40.928684Z",
     "shell.execute_reply.started": "2022-03-11T07:05:21.995278Z"
    },
    "papermill": {
     "duration": 0.046385,
     "end_time": "2022-03-11T08:15:40.928856",
     "exception": false,
     "start_time": "2022-03-11T08:15:40.882471",
     "status": "completed"
    },
    "tags": []
   },
   "outputs": [],
   "source": [
    "category=['HomePlanet', 'CryoSleep', 'Destination', 'VIP']\n",
    "# Cabin and Name will be processed separatelly as far as they contain composed info"
   ]
  },
  {
   "cell_type": "code",
   "execution_count": 13,
   "id": "d344ed9f",
   "metadata": {
    "execution": {
     "iopub.execute_input": "2022-03-11T08:15:41.010564Z",
     "iopub.status.busy": "2022-03-11T08:15:41.009893Z",
     "iopub.status.idle": "2022-03-11T08:15:41.040078Z",
     "shell.execute_reply": "2022-03-11T08:15:41.040634Z",
     "shell.execute_reply.started": "2022-03-11T07:07:25.834740Z"
    },
    "papermill": {
     "duration": 0.072736,
     "end_time": "2022-03-11T08:15:41.040887",
     "exception": false,
     "start_time": "2022-03-11T08:15:40.968151",
     "status": "completed"
    },
    "tags": []
   },
   "outputs": [],
   "source": [
    "# fill missing data with mode value\n",
    "for i in category:\n",
    "    joint[i].fillna(joint[i].mode()[0],inplace=True)\n",
    "    joint[i]=pd.factorize(joint[i])[0]"
   ]
  },
  {
   "cell_type": "markdown",
   "id": "0f643b38",
   "metadata": {
    "papermill": {
     "duration": 0.039011,
     "end_time": "2022-03-11T08:15:41.119345",
     "exception": false,
     "start_time": "2022-03-11T08:15:41.080334",
     "status": "completed"
    },
    "tags": []
   },
   "source": [
    "### Decompose Cabin data"
   ]
  },
  {
   "cell_type": "code",
   "execution_count": 14,
   "id": "da992fbc",
   "metadata": {
    "execution": {
     "iopub.execute_input": "2022-03-11T08:15:41.200633Z",
     "iopub.status.busy": "2022-03-11T08:15:41.199983Z",
     "iopub.status.idle": "2022-03-11T08:15:41.202919Z",
     "shell.execute_reply": "2022-03-11T08:15:41.203485Z"
    },
    "papermill": {
     "duration": 0.04526,
     "end_time": "2022-03-11T08:15:41.203688",
     "exception": false,
     "start_time": "2022-03-11T08:15:41.158428",
     "status": "completed"
    },
    "tags": []
   },
   "outputs": [],
   "source": [
    "# Cabibn as a raw data indicates uniq place - almost as Passenger ID.\n",
    "# But each element of Cabin data has it's meaning."
   ]
  },
  {
   "cell_type": "code",
   "execution_count": 15,
   "id": "dca54810",
   "metadata": {
    "execution": {
     "iopub.execute_input": "2022-03-11T08:15:41.285880Z",
     "iopub.status.busy": "2022-03-11T08:15:41.285213Z",
     "iopub.status.idle": "2022-03-11T08:15:45.265101Z",
     "shell.execute_reply": "2022-03-11T08:15:45.265613Z",
     "shell.execute_reply.started": "2022-03-11T07:15:05.741377Z"
    },
    "papermill": {
     "duration": 4.023046,
     "end_time": "2022-03-11T08:15:45.265840",
     "exception": false,
     "start_time": "2022-03-11T08:15:41.242794",
     "status": "completed"
    },
    "tags": []
   },
   "outputs": [],
   "source": [
    "def def_cabin(i):\n",
    "    if i is np.nan: result=[np.nan]*3 \n",
    "    else: result=i.split('/')\n",
    "    return pd.Series(result,index=['Deck','Num','Side'])\n",
    "\n",
    "joint[['Deck','Num','Side']]=joint['Cabin'].apply(def_cabin)\n",
    "\n",
    "for i in ['Deck','Num','Side']:\n",
    "    joint[i].fillna(joint[i].mode()[0],inplace=True)\n",
    "    joint[i]=pd.factorize(joint[i])[0]\n"
   ]
  },
  {
   "cell_type": "code",
   "execution_count": 16,
   "id": "cd6f77c5",
   "metadata": {
    "execution": {
     "iopub.execute_input": "2022-03-11T08:15:45.354821Z",
     "iopub.status.busy": "2022-03-11T08:15:45.354064Z",
     "iopub.status.idle": "2022-03-11T08:15:45.366856Z",
     "shell.execute_reply": "2022-03-11T08:15:45.367375Z",
     "shell.execute_reply.started": "2022-03-11T07:32:46.202591Z"
    },
    "papermill": {
     "duration": 0.058611,
     "end_time": "2022-03-11T08:15:45.367552",
     "exception": false,
     "start_time": "2022-03-11T08:15:45.308941",
     "status": "completed"
    },
    "tags": []
   },
   "outputs": [
    {
     "data": {
      "text/html": [
       "<div>\n",
       "<style scoped>\n",
       "    .dataframe tbody tr th:only-of-type {\n",
       "        vertical-align: middle;\n",
       "    }\n",
       "\n",
       "    .dataframe tbody tr th {\n",
       "        vertical-align: top;\n",
       "    }\n",
       "\n",
       "    .dataframe thead th {\n",
       "        text-align: right;\n",
       "    }\n",
       "</style>\n",
       "<table border=\"1\" class=\"dataframe\">\n",
       "  <thead>\n",
       "    <tr style=\"text-align: right;\">\n",
       "      <th></th>\n",
       "      <th>Deck</th>\n",
       "      <th>Num</th>\n",
       "      <th>Side</th>\n",
       "    </tr>\n",
       "  </thead>\n",
       "  <tbody>\n",
       "    <tr>\n",
       "      <th>0</th>\n",
       "      <td>0</td>\n",
       "      <td>0</td>\n",
       "      <td>0</td>\n",
       "    </tr>\n",
       "    <tr>\n",
       "      <th>1</th>\n",
       "      <td>1</td>\n",
       "      <td>0</td>\n",
       "      <td>1</td>\n",
       "    </tr>\n",
       "    <tr>\n",
       "      <th>2</th>\n",
       "      <td>2</td>\n",
       "      <td>0</td>\n",
       "      <td>1</td>\n",
       "    </tr>\n",
       "    <tr>\n",
       "      <th>3</th>\n",
       "      <td>2</td>\n",
       "      <td>0</td>\n",
       "      <td>1</td>\n",
       "    </tr>\n",
       "    <tr>\n",
       "      <th>4</th>\n",
       "      <td>1</td>\n",
       "      <td>1</td>\n",
       "      <td>1</td>\n",
       "    </tr>\n",
       "    <tr>\n",
       "      <th>...</th>\n",
       "      <td>...</td>\n",
       "      <td>...</td>\n",
       "      <td>...</td>\n",
       "    </tr>\n",
       "    <tr>\n",
       "      <th>4272</th>\n",
       "      <td>3</td>\n",
       "      <td>1529</td>\n",
       "      <td>1</td>\n",
       "    </tr>\n",
       "    <tr>\n",
       "      <th>4273</th>\n",
       "      <td>1</td>\n",
       "      <td>4</td>\n",
       "      <td>1</td>\n",
       "    </tr>\n",
       "    <tr>\n",
       "      <th>4274</th>\n",
       "      <td>5</td>\n",
       "      <td>361</td>\n",
       "      <td>0</td>\n",
       "    </tr>\n",
       "    <tr>\n",
       "      <th>4275</th>\n",
       "      <td>5</td>\n",
       "      <td>287</td>\n",
       "      <td>0</td>\n",
       "    </tr>\n",
       "    <tr>\n",
       "      <th>4276</th>\n",
       "      <td>3</td>\n",
       "      <td>1811</td>\n",
       "      <td>1</td>\n",
       "    </tr>\n",
       "  </tbody>\n",
       "</table>\n",
       "<p>12970 rows × 3 columns</p>\n",
       "</div>"
      ],
      "text/plain": [
       "      Deck   Num  Side\n",
       "0        0     0     0\n",
       "1        1     0     1\n",
       "2        2     0     1\n",
       "3        2     0     1\n",
       "4        1     1     1\n",
       "...    ...   ...   ...\n",
       "4272     3  1529     1\n",
       "4273     1     4     1\n",
       "4274     5   361     0\n",
       "4275     5   287     0\n",
       "4276     3  1811     1\n",
       "\n",
       "[12970 rows x 3 columns]"
      ]
     },
     "execution_count": 16,
     "metadata": {},
     "output_type": "execute_result"
    }
   ],
   "source": [
    "joint[['Deck','Num','Side']]"
   ]
  },
  {
   "cell_type": "markdown",
   "id": "ee0c0a3c",
   "metadata": {
    "papermill": {
     "duration": 0.042157,
     "end_time": "2022-03-11T08:15:45.452636",
     "exception": false,
     "start_time": "2022-03-11T08:15:45.410479",
     "status": "completed"
    },
    "tags": []
   },
   "source": [
    "### Decompose Name"
   ]
  },
  {
   "cell_type": "code",
   "execution_count": 17,
   "id": "e3242b38",
   "metadata": {
    "execution": {
     "iopub.execute_input": "2022-03-11T08:15:45.538380Z",
     "iopub.status.busy": "2022-03-11T08:15:45.537718Z",
     "iopub.status.idle": "2022-03-11T08:15:45.540454Z",
     "shell.execute_reply": "2022-03-11T08:15:45.541020Z"
    },
    "papermill": {
     "duration": 0.045816,
     "end_time": "2022-03-11T08:15:45.541197",
     "exception": false,
     "start_time": "2022-03-11T08:15:45.495381",
     "status": "completed"
    },
    "tags": []
   },
   "outputs": [],
   "source": [
    "# Name as a raw data indicates uniq person - almost as Passenger ID.\n",
    "# But we can use assumption that last name can indicate family membership.\n",
    "# First name can also have meaning."
   ]
  },
  {
   "cell_type": "code",
   "execution_count": 18,
   "id": "9288340d",
   "metadata": {
    "execution": {
     "iopub.execute_input": "2022-03-11T08:15:45.627691Z",
     "iopub.status.busy": "2022-03-11T08:15:45.626998Z",
     "iopub.status.idle": "2022-03-11T08:15:49.322459Z",
     "shell.execute_reply": "2022-03-11T08:15:49.321890Z",
     "shell.execute_reply.started": "2022-03-11T07:41:05.663754Z"
    },
    "papermill": {
     "duration": 3.741528,
     "end_time": "2022-03-11T08:15:49.322601",
     "exception": false,
     "start_time": "2022-03-11T08:15:45.581073",
     "status": "completed"
    },
    "tags": []
   },
   "outputs": [],
   "source": [
    "def def_name(i):\n",
    "    if i is np.nan: result=[np.nan]*2\n",
    "    else: result=i.split(' ')\n",
    "    return pd.Series(result,index=['FirstName','LastName'])\n",
    "\n",
    "joint[['FirstName','LastName']]=joint['Name'].apply(def_name)\n",
    "\n",
    "for i in ['FirstName','LastName']:\n",
    "    joint[i].fillna(joint[i].mode()[0],inplace=True)\n",
    "    joint[i]=pd.factorize(joint[i])[0]"
   ]
  },
  {
   "cell_type": "markdown",
   "id": "358204b5",
   "metadata": {
    "papermill": {
     "duration": 0.039604,
     "end_time": "2022-03-11T08:15:49.403364",
     "exception": false,
     "start_time": "2022-03-11T08:15:49.363760",
     "status": "completed"
    },
    "tags": []
   },
   "source": [
    "# Drop reduntant data"
   ]
  },
  {
   "cell_type": "code",
   "execution_count": 19,
   "id": "2e6e1b60",
   "metadata": {
    "execution": {
     "iopub.execute_input": "2022-03-11T08:15:49.492502Z",
     "iopub.status.busy": "2022-03-11T08:15:49.491463Z",
     "iopub.status.idle": "2022-03-11T08:15:49.516094Z",
     "shell.execute_reply": "2022-03-11T08:15:49.516762Z",
     "shell.execute_reply.started": "2022-03-11T07:43:42.031686Z"
    },
    "papermill": {
     "duration": 0.073911,
     "end_time": "2022-03-11T08:15:49.516939",
     "exception": false,
     "start_time": "2022-03-11T08:15:49.443028",
     "status": "completed"
    },
    "tags": []
   },
   "outputs": [
    {
     "data": {
      "text/html": [
       "<div>\n",
       "<style scoped>\n",
       "    .dataframe tbody tr th:only-of-type {\n",
       "        vertical-align: middle;\n",
       "    }\n",
       "\n",
       "    .dataframe tbody tr th {\n",
       "        vertical-align: top;\n",
       "    }\n",
       "\n",
       "    .dataframe thead th {\n",
       "        text-align: right;\n",
       "    }\n",
       "</style>\n",
       "<table border=\"1\" class=\"dataframe\">\n",
       "  <thead>\n",
       "    <tr style=\"text-align: right;\">\n",
       "      <th></th>\n",
       "      <th>PassengerId</th>\n",
       "      <th>HomePlanet</th>\n",
       "      <th>CryoSleep</th>\n",
       "      <th>Cabin</th>\n",
       "      <th>Destination</th>\n",
       "      <th>Age</th>\n",
       "      <th>VIP</th>\n",
       "      <th>RoomService</th>\n",
       "      <th>FoodCourt</th>\n",
       "      <th>ShoppingMall</th>\n",
       "      <th>Spa</th>\n",
       "      <th>VRDeck</th>\n",
       "      <th>Name</th>\n",
       "      <th>AgeGroup</th>\n",
       "      <th>Deck</th>\n",
       "      <th>Num</th>\n",
       "      <th>Side</th>\n",
       "      <th>FirstName</th>\n",
       "      <th>LastName</th>\n",
       "    </tr>\n",
       "  </thead>\n",
       "  <tbody>\n",
       "    <tr>\n",
       "      <th>0</th>\n",
       "      <td>0001_01</td>\n",
       "      <td>0</td>\n",
       "      <td>0</td>\n",
       "      <td>B/0/P</td>\n",
       "      <td>0</td>\n",
       "      <td>39</td>\n",
       "      <td>0</td>\n",
       "      <td>0</td>\n",
       "      <td>0</td>\n",
       "      <td>0</td>\n",
       "      <td>0</td>\n",
       "      <td>0</td>\n",
       "      <td>Maham Ofracculy</td>\n",
       "      <td>4</td>\n",
       "      <td>0</td>\n",
       "      <td>0</td>\n",
       "      <td>0</td>\n",
       "      <td>0</td>\n",
       "      <td>0</td>\n",
       "    </tr>\n",
       "    <tr>\n",
       "      <th>1</th>\n",
       "      <td>0002_01</td>\n",
       "      <td>1</td>\n",
       "      <td>0</td>\n",
       "      <td>F/0/S</td>\n",
       "      <td>0</td>\n",
       "      <td>24</td>\n",
       "      <td>0</td>\n",
       "      <td>109</td>\n",
       "      <td>9</td>\n",
       "      <td>25</td>\n",
       "      <td>549</td>\n",
       "      <td>44</td>\n",
       "      <td>Juanna Vines</td>\n",
       "      <td>3</td>\n",
       "      <td>1</td>\n",
       "      <td>0</td>\n",
       "      <td>1</td>\n",
       "      <td>1</td>\n",
       "      <td>1</td>\n",
       "    </tr>\n",
       "    <tr>\n",
       "      <th>2</th>\n",
       "      <td>0003_01</td>\n",
       "      <td>0</td>\n",
       "      <td>0</td>\n",
       "      <td>A/0/S</td>\n",
       "      <td>0</td>\n",
       "      <td>58</td>\n",
       "      <td>1</td>\n",
       "      <td>43</td>\n",
       "      <td>3576</td>\n",
       "      <td>0</td>\n",
       "      <td>6715</td>\n",
       "      <td>49</td>\n",
       "      <td>Altark Susent</td>\n",
       "      <td>6</td>\n",
       "      <td>2</td>\n",
       "      <td>0</td>\n",
       "      <td>1</td>\n",
       "      <td>2</td>\n",
       "      <td>2</td>\n",
       "    </tr>\n",
       "    <tr>\n",
       "      <th>3</th>\n",
       "      <td>0003_02</td>\n",
       "      <td>0</td>\n",
       "      <td>0</td>\n",
       "      <td>A/0/S</td>\n",
       "      <td>0</td>\n",
       "      <td>33</td>\n",
       "      <td>0</td>\n",
       "      <td>0</td>\n",
       "      <td>1283</td>\n",
       "      <td>371</td>\n",
       "      <td>3329</td>\n",
       "      <td>193</td>\n",
       "      <td>Solam Susent</td>\n",
       "      <td>4</td>\n",
       "      <td>2</td>\n",
       "      <td>0</td>\n",
       "      <td>1</td>\n",
       "      <td>3</td>\n",
       "      <td>2</td>\n",
       "    </tr>\n",
       "    <tr>\n",
       "      <th>4</th>\n",
       "      <td>0004_01</td>\n",
       "      <td>1</td>\n",
       "      <td>0</td>\n",
       "      <td>F/1/S</td>\n",
       "      <td>0</td>\n",
       "      <td>16</td>\n",
       "      <td>0</td>\n",
       "      <td>303</td>\n",
       "      <td>70</td>\n",
       "      <td>151</td>\n",
       "      <td>565</td>\n",
       "      <td>2</td>\n",
       "      <td>Willy Santantines</td>\n",
       "      <td>2</td>\n",
       "      <td>1</td>\n",
       "      <td>1</td>\n",
       "      <td>1</td>\n",
       "      <td>4</td>\n",
       "      <td>3</td>\n",
       "    </tr>\n",
       "  </tbody>\n",
       "</table>\n",
       "</div>"
      ],
      "text/plain": [
       "  PassengerId  HomePlanet  CryoSleep  Cabin  Destination  Age  VIP  \\\n",
       "0     0001_01           0          0  B/0/P            0   39    0   \n",
       "1     0002_01           1          0  F/0/S            0   24    0   \n",
       "2     0003_01           0          0  A/0/S            0   58    1   \n",
       "3     0003_02           0          0  A/0/S            0   33    0   \n",
       "4     0004_01           1          0  F/1/S            0   16    0   \n",
       "\n",
       "   RoomService  FoodCourt  ShoppingMall   Spa  VRDeck               Name  \\\n",
       "0            0          0             0     0       0    Maham Ofracculy   \n",
       "1          109          9            25   549      44       Juanna Vines   \n",
       "2           43       3576             0  6715      49      Altark Susent   \n",
       "3            0       1283           371  3329     193       Solam Susent   \n",
       "4          303         70           151   565       2  Willy Santantines   \n",
       "\n",
       "   AgeGroup  Deck  Num  Side  FirstName  LastName  \n",
       "0         4     0    0     0          0         0  \n",
       "1         3     1    0     1          1         1  \n",
       "2         6     2    0     1          2         2  \n",
       "3         4     2    0     1          3         2  \n",
       "4         2     1    1     1          4         3  "
      ]
     },
     "execution_count": 19,
     "metadata": {},
     "output_type": "execute_result"
    }
   ],
   "source": [
    "joint.head()"
   ]
  },
  {
   "cell_type": "code",
   "execution_count": 20,
   "id": "82759c14",
   "metadata": {
    "execution": {
     "iopub.execute_input": "2022-03-11T08:15:49.613941Z",
     "iopub.status.busy": "2022-03-11T08:15:49.613234Z",
     "iopub.status.idle": "2022-03-11T08:15:49.632211Z",
     "shell.execute_reply": "2022-03-11T08:15:49.632722Z",
     "shell.execute_reply.started": "2022-03-11T07:44:22.566463Z"
    },
    "papermill": {
     "duration": 0.065661,
     "end_time": "2022-03-11T08:15:49.632912",
     "exception": false,
     "start_time": "2022-03-11T08:15:49.567251",
     "status": "completed"
    },
    "tags": []
   },
   "outputs": [
    {
     "name": "stdout",
     "output_type": "stream",
     "text": [
      "<class 'pandas.core.frame.DataFrame'>\n",
      "Int64Index: 12970 entries, 0 to 4276\n",
      "Data columns (total 19 columns):\n",
      " #   Column        Non-Null Count  Dtype \n",
      "---  ------        --------------  ----- \n",
      " 0   PassengerId   12970 non-null  object\n",
      " 1   HomePlanet    12970 non-null  int64 \n",
      " 2   CryoSleep     12970 non-null  int64 \n",
      " 3   Cabin         12671 non-null  object\n",
      " 4   Destination   12970 non-null  int64 \n",
      " 5   Age           12970 non-null  int64 \n",
      " 6   VIP           12970 non-null  int64 \n",
      " 7   RoomService   12970 non-null  int64 \n",
      " 8   FoodCourt     12970 non-null  int64 \n",
      " 9   ShoppingMall  12970 non-null  int64 \n",
      " 10  Spa           12970 non-null  int64 \n",
      " 11  VRDeck        12970 non-null  int64 \n",
      " 12  Name          12676 non-null  object\n",
      " 13  AgeGroup      12970 non-null  int64 \n",
      " 14  Deck          12970 non-null  int64 \n",
      " 15  Num           12970 non-null  int64 \n",
      " 16  Side          12970 non-null  int64 \n",
      " 17  FirstName     12970 non-null  int64 \n",
      " 18  LastName      12970 non-null  int64 \n",
      "dtypes: int64(16), object(3)\n",
      "memory usage: 2.0+ MB\n"
     ]
    }
   ],
   "source": [
    "joint.info()"
   ]
  },
  {
   "cell_type": "code",
   "execution_count": 21,
   "id": "53eb69f0",
   "metadata": {
    "execution": {
     "iopub.execute_input": "2022-03-11T08:15:49.718344Z",
     "iopub.status.busy": "2022-03-11T08:15:49.717703Z",
     "iopub.status.idle": "2022-03-11T08:15:49.732406Z",
     "shell.execute_reply": "2022-03-11T08:15:49.731853Z",
     "shell.execute_reply.started": "2022-03-11T07:45:05.535766Z"
    },
    "papermill": {
     "duration": 0.058448,
     "end_time": "2022-03-11T08:15:49.732578",
     "exception": false,
     "start_time": "2022-03-11T08:15:49.674130",
     "status": "completed"
    },
    "tags": []
   },
   "outputs": [
    {
     "data": {
      "text/plain": [
       "PassengerId       0\n",
       "HomePlanet        0\n",
       "CryoSleep         0\n",
       "Cabin           299\n",
       "Destination       0\n",
       "Age               0\n",
       "VIP               0\n",
       "RoomService       0\n",
       "FoodCourt         0\n",
       "ShoppingMall      0\n",
       "Spa               0\n",
       "VRDeck            0\n",
       "Name            294\n",
       "AgeGroup          0\n",
       "Deck              0\n",
       "Num               0\n",
       "Side              0\n",
       "FirstName         0\n",
       "LastName          0\n",
       "dtype: int64"
      ]
     },
     "execution_count": 21,
     "metadata": {},
     "output_type": "execute_result"
    }
   ],
   "source": [
    "joint.isna().sum()"
   ]
  },
  {
   "cell_type": "code",
   "execution_count": 22,
   "id": "4ea7bded",
   "metadata": {
    "execution": {
     "iopub.execute_input": "2022-03-11T08:15:49.822558Z",
     "iopub.status.busy": "2022-03-11T08:15:49.821897Z",
     "iopub.status.idle": "2022-03-11T08:15:49.827993Z",
     "shell.execute_reply": "2022-03-11T08:15:49.827341Z",
     "shell.execute_reply.started": "2022-03-11T07:56:42.775849Z"
    },
    "papermill": {
     "duration": 0.053226,
     "end_time": "2022-03-11T08:15:49.828218",
     "exception": false,
     "start_time": "2022-03-11T08:15:49.774992",
     "status": "completed"
    },
    "tags": []
   },
   "outputs": [],
   "source": [
    "joint_X=joint.drop(['PassengerId','Cabin', 'Name'],axis=1)\n",
    "train_X=joint_X[:8693]\n",
    "test_X=joint_X[8693:]"
   ]
  },
  {
   "cell_type": "markdown",
   "id": "d782e44f",
   "metadata": {
    "papermill": {
     "duration": 0.041923,
     "end_time": "2022-03-11T08:15:49.911864",
     "exception": false,
     "start_time": "2022-03-11T08:15:49.869941",
     "status": "completed"
    },
    "tags": []
   },
   "source": [
    "# Models application"
   ]
  },
  {
   "cell_type": "code",
   "execution_count": 23,
   "id": "dcea2282",
   "metadata": {
    "execution": {
     "iopub.execute_input": "2022-03-11T08:15:50.000564Z",
     "iopub.status.busy": "2022-03-11T08:15:49.999860Z",
     "iopub.status.idle": "2022-03-11T08:15:51.389364Z",
     "shell.execute_reply": "2022-03-11T08:15:51.388631Z",
     "shell.execute_reply.started": "2022-03-11T07:53:50.798642Z"
    },
    "papermill": {
     "duration": 1.436417,
     "end_time": "2022-03-11T08:15:51.389509",
     "exception": false,
     "start_time": "2022-03-11T08:15:49.953092",
     "status": "completed"
    },
    "tags": []
   },
   "outputs": [],
   "source": [
    "from sklearn.tree import DecisionTreeClassifier\n",
    "from sklearn.tree import DecisionTreeRegressor\n",
    "from sklearn.model_selection import train_test_split, GridSearchCV, cross_val_score\n",
    "from sklearn.metrics import accuracy_score\n",
    "from sklearn.neighbors import KNeighborsClassifier\n",
    "from sklearn.ensemble import RandomForestClassifier\n",
    "from sklearn.pipeline import Pipeline\n",
    "from sklearn.preprocessing import StandardScaler"
   ]
  },
  {
   "cell_type": "markdown",
   "id": "4453c101",
   "metadata": {
    "papermill": {
     "duration": 0.042624,
     "end_time": "2022-03-11T08:15:51.473958",
     "exception": false,
     "start_time": "2022-03-11T08:15:51.431334",
     "status": "completed"
    },
    "tags": []
   },
   "source": [
    "## Decision Tree cross validation"
   ]
  },
  {
   "cell_type": "code",
   "execution_count": 24,
   "id": "d815a31d",
   "metadata": {
    "execution": {
     "iopub.execute_input": "2022-03-11T08:15:51.563822Z",
     "iopub.status.busy": "2022-03-11T08:15:51.562623Z",
     "iopub.status.idle": "2022-03-11T08:15:54.214966Z",
     "shell.execute_reply": "2022-03-11T08:15:54.214253Z",
     "shell.execute_reply.started": "2022-03-11T07:56:52.043125Z"
    },
    "papermill": {
     "duration": 2.699689,
     "end_time": "2022-03-11T08:15:54.215129",
     "exception": false,
     "start_time": "2022-03-11T08:15:51.515440",
     "status": "completed"
    },
    "tags": []
   },
   "outputs": [
    {
     "name": "stdout",
     "output_type": "stream",
     "text": [
      "Fitting 5 folds for each of 30 candidates, totalling 150 fits\n"
     ]
    },
    {
     "data": {
      "text/plain": [
       "({'max_depth': 6, 'max_features': 9}, 0.7726931936466006)"
      ]
     },
     "execution_count": 24,
     "metadata": {},
     "output_type": "execute_result"
    }
   ],
   "source": [
    "tree = DecisionTreeClassifier()\n",
    "tree_params = {'max_depth': range(1,7), 'max_features': range(5,10)}\n",
    "tree_grid = GridSearchCV(tree, tree_params, cv=5, n_jobs=-1, verbose=True)\n",
    "tree_grid.fit(train_X, train_y)\n",
    "tree_grid.best_params_, tree_grid.best_score_"
   ]
  },
  {
   "cell_type": "markdown",
   "id": "b9d29066",
   "metadata": {
    "papermill": {
     "duration": 0.043153,
     "end_time": "2022-03-11T08:15:54.300499",
     "exception": false,
     "start_time": "2022-03-11T08:15:54.257346",
     "status": "completed"
    },
    "tags": []
   },
   "source": [
    "## kNN cross validation"
   ]
  },
  {
   "cell_type": "code",
   "execution_count": 25,
   "id": "e1af70b0",
   "metadata": {
    "execution": {
     "iopub.execute_input": "2022-03-11T08:15:54.395165Z",
     "iopub.status.busy": "2022-03-11T08:15:54.394341Z",
     "iopub.status.idle": "2022-03-11T08:16:29.122005Z",
     "shell.execute_reply": "2022-03-11T08:16:29.122861Z",
     "shell.execute_reply.started": "2022-03-11T07:58:27.777968Z"
    },
    "papermill": {
     "duration": 34.778653,
     "end_time": "2022-03-11T08:16:29.123091",
     "exception": false,
     "start_time": "2022-03-11T08:15:54.344438",
     "status": "completed"
    },
    "tags": []
   },
   "outputs": [
    {
     "name": "stdout",
     "output_type": "stream",
     "text": [
      "Fitting 5 folds for each of 39 candidates, totalling 195 fits\n"
     ]
    },
    {
     "data": {
      "text/plain": [
       "({'knn__n_neighbors': 25}, 0.7726912084574351)"
      ]
     },
     "execution_count": 25,
     "metadata": {},
     "output_type": "execute_result"
    }
   ],
   "source": [
    "knn = KNeighborsClassifier()\n",
    "knn_pipe = Pipeline([('scaler', StandardScaler()), ('knn', KNeighborsClassifier(n_jobs=-1))])\n",
    "knn_params = {'knn__n_neighbors': range(1, 40)}\n",
    "knn_grid = GridSearchCV(knn_pipe, knn_params, cv=5, n_jobs=-1,verbose=True)\n",
    "knn_grid.fit(train_X, train_y)\n",
    "knn_grid.best_params_, knn_grid.best_score_"
   ]
  },
  {
   "cell_type": "markdown",
   "id": "fa0a21b5",
   "metadata": {
    "papermill": {
     "duration": 0.045673,
     "end_time": "2022-03-11T08:16:29.214954",
     "exception": false,
     "start_time": "2022-03-11T08:16:29.169281",
     "status": "completed"
    },
    "tags": []
   },
   "source": [
    "## Random Forest cross validation"
   ]
  },
  {
   "cell_type": "code",
   "execution_count": 26,
   "id": "2f043f2e",
   "metadata": {
    "execution": {
     "iopub.execute_input": "2022-03-11T08:16:29.303808Z",
     "iopub.status.busy": "2022-03-11T08:16:29.303093Z",
     "iopub.status.idle": "2022-03-11T08:18:20.421416Z",
     "shell.execute_reply": "2022-03-11T08:18:20.421947Z",
     "shell.execute_reply.started": "2022-03-11T08:00:43.033968Z"
    },
    "papermill": {
     "duration": 111.164305,
     "end_time": "2022-03-11T08:18:20.422139",
     "exception": false,
     "start_time": "2022-03-11T08:16:29.257834",
     "status": "completed"
    },
    "tags": []
   },
   "outputs": [
    {
     "data": {
      "text/plain": [
       "({'max_depth': 9, 'max_features': 4}, 0.7971963173417523)"
      ]
     },
     "execution_count": 26,
     "metadata": {},
     "output_type": "execute_result"
    }
   ],
   "source": [
    "forest = RandomForestClassifier()\n",
    "forest_params = {'max_depth': range(1,10), 'max_features': range(1,10)}\n",
    "forest_grid = GridSearchCV(forest, forest_params, cv=5, n_jobs=-1, verbose=False)\n",
    "forest_grid.fit(train_X, train_y)\n",
    "forest_grid.best_params_, forest_grid.best_score_"
   ]
  },
  {
   "cell_type": "markdown",
   "id": "409224fb",
   "metadata": {
    "papermill": {
     "duration": 0.045498,
     "end_time": "2022-03-11T08:18:20.511391",
     "exception": false,
     "start_time": "2022-03-11T08:18:20.465893",
     "status": "completed"
    },
    "tags": []
   },
   "source": [
    "# Submission"
   ]
  },
  {
   "cell_type": "code",
   "execution_count": 27,
   "id": "9f4c585a",
   "metadata": {
    "execution": {
     "iopub.execute_input": "2022-03-11T08:18:20.611188Z",
     "iopub.status.busy": "2022-03-11T08:18:20.610110Z",
     "iopub.status.idle": "2022-03-11T08:18:21.789741Z",
     "shell.execute_reply": "2022-03-11T08:18:21.789183Z",
     "shell.execute_reply.started": "2022-03-11T08:14:38.828981Z"
    },
    "papermill": {
     "duration": 1.233161,
     "end_time": "2022-03-11T08:18:21.789896",
     "exception": false,
     "start_time": "2022-03-11T08:18:20.556735",
     "status": "completed"
    },
    "tags": []
   },
   "outputs": [],
   "source": [
    "# Random Forest with {'max_depth': 9, 'max_features': 4} has the best accuracy so far\n",
    "forest = RandomForestClassifier(max_depth=9,max_features=4)\n",
    "forest.fit(train_X, train_y)\n",
    "test_pred=forest.predict(test_X)"
   ]
  },
  {
   "cell_type": "code",
   "execution_count": 28,
   "id": "cf96ce80",
   "metadata": {
    "execution": {
     "iopub.execute_input": "2022-03-11T08:18:21.886272Z",
     "iopub.status.busy": "2022-03-11T08:18:21.885516Z",
     "iopub.status.idle": "2022-03-11T08:18:21.911117Z",
     "shell.execute_reply": "2022-03-11T08:18:21.911704Z",
     "shell.execute_reply.started": "2022-03-11T08:14:46.745630Z"
    },
    "papermill": {
     "duration": 0.077823,
     "end_time": "2022-03-11T08:18:21.911902",
     "exception": false,
     "start_time": "2022-03-11T08:18:21.834079",
     "status": "completed"
    },
    "tags": []
   },
   "outputs": [],
   "source": [
    "sub = pd.read_csv('/kaggle/input/spaceship-titanic/sample_submission.csv')\n",
    "sub['Transported']=test_pred\n",
    "sub.to_csv('submission.csv',index=False)"
   ]
  }
 ],
 "metadata": {
  "kernelspec": {
   "display_name": "Python 3",
   "language": "python",
   "name": "python3"
  },
  "language_info": {
   "codemirror_mode": {
    "name": "ipython",
    "version": 3
   },
   "file_extension": ".py",
   "mimetype": "text/x-python",
   "name": "python",
   "nbconvert_exporter": "python",
   "pygments_lexer": "ipython3",
   "version": "3.7.12"
  },
  "papermill": {
   "default_parameters": {},
   "duration": 174.075244,
   "end_time": "2022-03-11T08:18:22.870445",
   "environment_variables": {},
   "exception": null,
   "input_path": "__notebook__.ipynb",
   "output_path": "__notebook__.ipynb",
   "parameters": {},
   "start_time": "2022-03-11T08:15:28.795201",
   "version": "2.3.3"
  }
 },
 "nbformat": 4,
 "nbformat_minor": 5
}
